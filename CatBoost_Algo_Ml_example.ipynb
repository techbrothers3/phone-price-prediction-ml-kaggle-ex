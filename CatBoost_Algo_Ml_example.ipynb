{
  "nbformat": 4,
  "nbformat_minor": 0,
  "metadata": {
    "colab": {
      "provenance": [],
      "gpuType": "T4",
      "authorship_tag": "ABX9TyPUJigaLiBO8Tl1VpuJcu+C",
      "include_colab_link": true
    },
    "kernelspec": {
      "name": "python3",
      "display_name": "Python 3"
    },
    "language_info": {
      "name": "python"
    },
    "accelerator": "GPU"
  },
  "cells": [
    {
      "cell_type": "markdown",
      "metadata": {
        "id": "view-in-github",
        "colab_type": "text"
      },
      "source": [
        "<a href=\"https://colab.research.google.com/github/techbrothers3/phone-price-prediction-ml-kaggle-ex/blob/main/CatBoost_Algo_Ml_example.ipynb\" target=\"_parent\"><img src=\"https://colab.research.google.com/assets/colab-badge.svg\" alt=\"Open In Colab\"/></a>"
      ]
    },
    {
      "cell_type": "code",
      "execution_count": null,
      "metadata": {
        "colab": {
          "base_uri": "https://localhost:8080/"
        },
        "id": "wPZPwYizR_ap",
        "outputId": "f4db0a33-e019-4d7f-df4c-762430b62e3e"
      },
      "outputs": [
        {
          "output_type": "stream",
          "name": "stdout",
          "text": [
            "Collecting catboost\n",
            "  Downloading catboost-1.2.2-cp310-cp310-manylinux2014_x86_64.whl (98.7 MB)\n",
            "\u001b[2K     \u001b[90m━━━━━━━━━━━━━━━━━━━━━━━━━━━━━━━━━━━━━━━━\u001b[0m \u001b[32m98.7/98.7 MB\u001b[0m \u001b[31m10.4 MB/s\u001b[0m eta \u001b[36m0:00:00\u001b[0m\n",
            "\u001b[?25hRequirement already satisfied: graphviz in /usr/local/lib/python3.10/dist-packages (from catboost) (0.20.1)\n",
            "Requirement already satisfied: matplotlib in /usr/local/lib/python3.10/dist-packages (from catboost) (3.7.1)\n",
            "Requirement already satisfied: numpy>=1.16.0 in /usr/local/lib/python3.10/dist-packages (from catboost) (1.23.5)\n",
            "Requirement already satisfied: pandas>=0.24 in /usr/local/lib/python3.10/dist-packages (from catboost) (1.5.3)\n",
            "Requirement already satisfied: scipy in /usr/local/lib/python3.10/dist-packages (from catboost) (1.11.3)\n",
            "Requirement already satisfied: plotly in /usr/local/lib/python3.10/dist-packages (from catboost) (5.15.0)\n",
            "Requirement already satisfied: six in /usr/local/lib/python3.10/dist-packages (from catboost) (1.16.0)\n",
            "Requirement already satisfied: python-dateutil>=2.8.1 in /usr/local/lib/python3.10/dist-packages (from pandas>=0.24->catboost) (2.8.2)\n",
            "Requirement already satisfied: pytz>=2020.1 in /usr/local/lib/python3.10/dist-packages (from pandas>=0.24->catboost) (2023.3.post1)\n",
            "Requirement already satisfied: contourpy>=1.0.1 in /usr/local/lib/python3.10/dist-packages (from matplotlib->catboost) (1.2.0)\n",
            "Requirement already satisfied: cycler>=0.10 in /usr/local/lib/python3.10/dist-packages (from matplotlib->catboost) (0.12.1)\n",
            "Requirement already satisfied: fonttools>=4.22.0 in /usr/local/lib/python3.10/dist-packages (from matplotlib->catboost) (4.44.3)\n",
            "Requirement already satisfied: kiwisolver>=1.0.1 in /usr/local/lib/python3.10/dist-packages (from matplotlib->catboost) (1.4.5)\n",
            "Requirement already satisfied: packaging>=20.0 in /usr/local/lib/python3.10/dist-packages (from matplotlib->catboost) (23.2)\n",
            "Requirement already satisfied: pillow>=6.2.0 in /usr/local/lib/python3.10/dist-packages (from matplotlib->catboost) (9.4.0)\n",
            "Requirement already satisfied: pyparsing>=2.3.1 in /usr/local/lib/python3.10/dist-packages (from matplotlib->catboost) (3.1.1)\n",
            "Requirement already satisfied: tenacity>=6.2.0 in /usr/local/lib/python3.10/dist-packages (from plotly->catboost) (8.2.3)\n",
            "Installing collected packages: catboost\n",
            "Successfully installed catboost-1.2.2\n"
          ]
        }
      ],
      "source": [
        "!pip install catboost"
      ]
    },
    {
      "cell_type": "code",
      "source": [
        "import pandas as pd\n",
        "from catboost import CatBoostRegressor\n",
        "from sklearn.metrics import r2_score\n",
        "from sklearn.model_selection import train_test_split\n",
        "\n"
      ],
      "metadata": {
        "id": "UW3aBghLSclK"
      },
      "execution_count": null,
      "outputs": []
    },
    {
      "cell_type": "code",
      "source": [
        "df = pd.read_csv('cleaned_all_phones.csv')\n",
        "df.info()\n"
      ],
      "metadata": {
        "colab": {
          "base_uri": "https://localhost:8080/"
        },
        "id": "ASiC-lJ_TP6p",
        "outputId": "837aca67-be92-4410-c93c-ad311656cd87"
      },
      "execution_count": null,
      "outputs": [
        {
          "output_type": "stream",
          "name": "stdout",
          "text": [
            "<class 'pandas.core.frame.DataFrame'>\n",
            "RangeIndex: 1512 entries, 0 to 1511\n",
            "Data columns (total 22 columns):\n",
            " #   Column             Non-Null Count  Dtype  \n",
            "---  ------             --------------  -----  \n",
            " 0   phone_name         1512 non-null   object \n",
            " 1   brand              1512 non-null   object \n",
            " 2   os                 1512 non-null   object \n",
            " 3   inches             1512 non-null   float64\n",
            " 4   resolution         1512 non-null   object \n",
            " 5   battery            1512 non-null   int64  \n",
            " 6   battery_type       1512 non-null   object \n",
            " 7   ram(GB)            1512 non-null   int64  \n",
            " 8   announcement_date  1512 non-null   object \n",
            " 9   weight(g)          1512 non-null   float64\n",
            " 10  storage(GB)        1512 non-null   int64  \n",
            " 11  video_720p         1512 non-null   bool   \n",
            " 12  video_1080p        1512 non-null   bool   \n",
            " 13  video_4K           1512 non-null   bool   \n",
            " 14  video_8K           1512 non-null   bool   \n",
            " 15  video_30fps        1512 non-null   bool   \n",
            " 16  video_60fps        1512 non-null   bool   \n",
            " 17  video_120fps       1512 non-null   bool   \n",
            " 18  video_240fps       1512 non-null   bool   \n",
            " 19  video_480fps       1512 non-null   bool   \n",
            " 20  video_960fps       1512 non-null   bool   \n",
            " 21  price(USD)         1512 non-null   float64\n",
            "dtypes: bool(10), float64(3), int64(3), object(6)\n",
            "memory usage: 156.6+ KB\n"
          ]
        }
      ]
    },
    {
      "cell_type": "code",
      "source": [
        "print(df.isnull().sum())"
      ],
      "metadata": {
        "colab": {
          "base_uri": "https://localhost:8080/"
        },
        "id": "ojAEIR5HTjvP",
        "outputId": "9eea17e8-1135-4b83-d444-8bd3a96e4ffe"
      },
      "execution_count": null,
      "outputs": [
        {
          "output_type": "stream",
          "name": "stdout",
          "text": [
            "phone_name           0\n",
            "brand                0\n",
            "os                   0\n",
            "inches               0\n",
            "resolution           0\n",
            "battery              0\n",
            "battery_type         0\n",
            "ram(GB)              0\n",
            "announcement_date    0\n",
            "weight(g)            0\n",
            "storage(GB)          0\n",
            "video_720p           0\n",
            "video_1080p          0\n",
            "video_4K             0\n",
            "video_8K             0\n",
            "video_30fps          0\n",
            "video_60fps          0\n",
            "video_120fps         0\n",
            "video_240fps         0\n",
            "video_480fps         0\n",
            "video_960fps         0\n",
            "price(USD)           0\n",
            "dtype: int64\n"
          ]
        }
      ]
    },
    {
      "cell_type": "code",
      "source": [
        "X = df.drop('price(USD)', axis=1)\n",
        "y = df['price(USD)']\n"
      ],
      "metadata": {
        "id": "BMbSzbqgTo1c"
      },
      "execution_count": null,
      "outputs": []
    },
    {
      "cell_type": "markdown",
      "source": [
        "splitting the data into train and test"
      ],
      "metadata": {
        "id": "eM4Iy1zdV7C4"
      }
    },
    {
      "cell_type": "code",
      "source": [
        "X_train, X_test, y_train, y_test = train_test_split(X, y, test_size=0.2, random_state= 42)\n",
        "cat_features = X_train.select_dtypes(include=['object', 'bool']).columns.tolist()"
      ],
      "metadata": {
        "id": "f4IEkmBPU7Re"
      },
      "execution_count": null,
      "outputs": []
    },
    {
      "cell_type": "code",
      "source": [
        "catboost_model = CatBoostRegressor(task_type='GPU', iterations=100)\n",
        "\n",
        "#train the model\n",
        "\n",
        "catboost_model.fit(X_train, y_train, cat_features= cat_features)"
      ],
      "metadata": {
        "colab": {
          "base_uri": "https://localhost:8080/"
        },
        "id": "cLqFMRyyWMNo",
        "outputId": "8e69711f-f35f-46e2-b7c9-882d86c255f7"
      },
      "execution_count": null,
      "outputs": [
        {
          "output_type": "stream",
          "name": "stdout",
          "text": [
            "Learning rate set to 0.163723\n",
            "0:\tlearn: 258.3975816\ttotal: 6.67ms\tremaining: 661ms\n",
            "1:\tlearn: 250.9475179\ttotal: 12.1ms\tremaining: 594ms\n",
            "2:\tlearn: 244.3503160\ttotal: 17.7ms\tremaining: 571ms\n",
            "3:\tlearn: 238.4923559\ttotal: 23.1ms\tremaining: 555ms\n",
            "4:\tlearn: 234.7637920\ttotal: 28.6ms\tremaining: 544ms\n",
            "5:\tlearn: 230.4958298\ttotal: 34ms\tremaining: 533ms\n",
            "6:\tlearn: 228.3107745\ttotal: 39.5ms\tremaining: 524ms\n",
            "7:\tlearn: 225.6429102\ttotal: 44.9ms\tremaining: 516ms\n",
            "8:\tlearn: 223.4574843\ttotal: 50.3ms\tremaining: 509ms\n",
            "9:\tlearn: 221.2440875\ttotal: 55.7ms\tremaining: 501ms\n",
            "10:\tlearn: 219.4677824\ttotal: 61ms\tremaining: 494ms\n",
            "11:\tlearn: 218.3038382\ttotal: 66.5ms\tremaining: 488ms\n",
            "12:\tlearn: 216.7189808\ttotal: 72ms\tremaining: 482ms\n",
            "13:\tlearn: 214.1301445\ttotal: 77.6ms\tremaining: 476ms\n",
            "14:\tlearn: 213.1518019\ttotal: 82.9ms\tremaining: 470ms\n",
            "15:\tlearn: 211.5047511\ttotal: 88.3ms\tremaining: 464ms\n",
            "16:\tlearn: 210.2272275\ttotal: 93.7ms\tremaining: 458ms\n",
            "17:\tlearn: 208.9908400\ttotal: 99.5ms\tremaining: 453ms\n",
            "18:\tlearn: 207.3761881\ttotal: 105ms\tremaining: 447ms\n",
            "19:\tlearn: 205.9164269\ttotal: 111ms\tremaining: 444ms\n",
            "20:\tlearn: 204.7436938\ttotal: 117ms\tremaining: 439ms\n",
            "21:\tlearn: 203.3872876\ttotal: 122ms\tremaining: 433ms\n",
            "22:\tlearn: 202.3604953\ttotal: 127ms\tremaining: 427ms\n",
            "23:\tlearn: 201.2477949\ttotal: 133ms\tremaining: 421ms\n",
            "24:\tlearn: 200.3943589\ttotal: 138ms\tremaining: 415ms\n",
            "25:\tlearn: 199.3005802\ttotal: 144ms\tremaining: 409ms\n",
            "26:\tlearn: 198.4939157\ttotal: 149ms\tremaining: 403ms\n",
            "27:\tlearn: 197.4636862\ttotal: 155ms\tremaining: 397ms\n",
            "28:\tlearn: 197.0066484\ttotal: 160ms\tremaining: 392ms\n",
            "29:\tlearn: 196.2786797\ttotal: 165ms\tremaining: 386ms\n",
            "30:\tlearn: 194.9578054\ttotal: 175ms\tremaining: 390ms\n",
            "31:\tlearn: 194.0312835\ttotal: 181ms\tremaining: 384ms\n",
            "32:\tlearn: 193.4432932\ttotal: 186ms\tremaining: 378ms\n",
            "33:\tlearn: 192.7726218\ttotal: 192ms\tremaining: 372ms\n",
            "34:\tlearn: 191.5735373\ttotal: 197ms\tremaining: 365ms\n",
            "35:\tlearn: 190.7186964\ttotal: 202ms\tremaining: 359ms\n",
            "36:\tlearn: 190.0047189\ttotal: 207ms\tremaining: 353ms\n",
            "37:\tlearn: 189.5975189\ttotal: 215ms\tremaining: 350ms\n",
            "38:\tlearn: 188.8225849\ttotal: 222ms\tremaining: 347ms\n",
            "39:\tlearn: 187.7007632\ttotal: 227ms\tremaining: 340ms\n",
            "40:\tlearn: 187.2976073\ttotal: 232ms\tremaining: 334ms\n",
            "41:\tlearn: 186.0720620\ttotal: 237ms\tremaining: 328ms\n",
            "42:\tlearn: 185.1005137\ttotal: 243ms\tremaining: 321ms\n",
            "43:\tlearn: 184.2219325\ttotal: 248ms\tremaining: 315ms\n",
            "44:\tlearn: 183.8841654\ttotal: 253ms\tremaining: 309ms\n",
            "45:\tlearn: 183.7485605\ttotal: 258ms\tremaining: 303ms\n",
            "46:\tlearn: 183.3498601\ttotal: 265ms\tremaining: 299ms\n",
            "47:\tlearn: 181.7799322\ttotal: 271ms\tremaining: 293ms\n",
            "48:\tlearn: 181.3740679\ttotal: 276ms\tremaining: 287ms\n",
            "49:\tlearn: 180.8856074\ttotal: 281ms\tremaining: 281ms\n",
            "50:\tlearn: 180.4997382\ttotal: 286ms\tremaining: 275ms\n",
            "51:\tlearn: 180.0885546\ttotal: 291ms\tremaining: 269ms\n",
            "52:\tlearn: 178.9173396\ttotal: 297ms\tremaining: 263ms\n",
            "53:\tlearn: 178.7055746\ttotal: 302ms\tremaining: 257ms\n",
            "54:\tlearn: 178.0493143\ttotal: 307ms\tremaining: 251ms\n",
            "55:\tlearn: 177.7534747\ttotal: 312ms\tremaining: 245ms\n",
            "56:\tlearn: 177.3641024\ttotal: 317ms\tremaining: 239ms\n",
            "57:\tlearn: 176.3297347\ttotal: 323ms\tremaining: 234ms\n",
            "58:\tlearn: 175.6915581\ttotal: 330ms\tremaining: 229ms\n",
            "59:\tlearn: 175.1830143\ttotal: 335ms\tremaining: 224ms\n",
            "60:\tlearn: 174.2811207\ttotal: 341ms\tremaining: 218ms\n",
            "61:\tlearn: 173.9741384\ttotal: 346ms\tremaining: 212ms\n",
            "62:\tlearn: 173.0143212\ttotal: 351ms\tremaining: 206ms\n",
            "63:\tlearn: 172.4186050\ttotal: 356ms\tremaining: 200ms\n",
            "64:\tlearn: 171.6760563\ttotal: 366ms\tremaining: 197ms\n",
            "65:\tlearn: 170.9640257\ttotal: 371ms\tremaining: 191ms\n",
            "66:\tlearn: 170.6020672\ttotal: 381ms\tremaining: 188ms\n",
            "67:\tlearn: 170.2533606\ttotal: 392ms\tremaining: 184ms\n",
            "68:\tlearn: 169.6343852\ttotal: 404ms\tremaining: 182ms\n",
            "69:\tlearn: 169.2027919\ttotal: 410ms\tremaining: 176ms\n",
            "70:\tlearn: 168.7879039\ttotal: 415ms\tremaining: 170ms\n",
            "71:\tlearn: 168.6156548\ttotal: 421ms\tremaining: 164ms\n",
            "72:\tlearn: 168.0300989\ttotal: 426ms\tremaining: 157ms\n",
            "73:\tlearn: 167.6444700\ttotal: 431ms\tremaining: 151ms\n",
            "74:\tlearn: 167.1215661\ttotal: 440ms\tremaining: 147ms\n",
            "75:\tlearn: 166.3703354\ttotal: 445ms\tremaining: 141ms\n",
            "76:\tlearn: 164.9940019\ttotal: 451ms\tremaining: 135ms\n",
            "77:\tlearn: 164.4238154\ttotal: 456ms\tremaining: 129ms\n",
            "78:\tlearn: 163.9171097\ttotal: 461ms\tremaining: 123ms\n",
            "79:\tlearn: 163.4545540\ttotal: 466ms\tremaining: 117ms\n",
            "80:\tlearn: 162.7814786\ttotal: 471ms\tremaining: 111ms\n",
            "81:\tlearn: 162.3849851\ttotal: 477ms\tremaining: 105ms\n",
            "82:\tlearn: 162.1284809\ttotal: 482ms\tremaining: 98.7ms\n",
            "83:\tlearn: 161.4661219\ttotal: 487ms\tremaining: 92.8ms\n",
            "84:\tlearn: 160.8218193\ttotal: 502ms\tremaining: 88.6ms\n",
            "85:\tlearn: 160.6168836\ttotal: 507ms\tremaining: 82.5ms\n",
            "86:\tlearn: 160.3980986\ttotal: 512ms\tremaining: 76.5ms\n",
            "87:\tlearn: 159.7413439\ttotal: 517ms\tremaining: 70.5ms\n",
            "88:\tlearn: 159.1440296\ttotal: 522ms\tremaining: 64.5ms\n",
            "89:\tlearn: 158.7613083\ttotal: 527ms\tremaining: 58.6ms\n",
            "90:\tlearn: 158.5695152\ttotal: 533ms\tremaining: 52.7ms\n",
            "91:\tlearn: 158.1733352\ttotal: 538ms\tremaining: 46.8ms\n",
            "92:\tlearn: 157.9880952\ttotal: 544ms\tremaining: 41ms\n",
            "93:\tlearn: 157.5666020\ttotal: 549ms\tremaining: 35.1ms\n",
            "94:\tlearn: 156.9040948\ttotal: 555ms\tremaining: 29.2ms\n",
            "95:\tlearn: 156.6132038\ttotal: 564ms\tremaining: 23.5ms\n",
            "96:\tlearn: 155.9231110\ttotal: 569ms\tremaining: 17.6ms\n",
            "97:\tlearn: 155.8202874\ttotal: 575ms\tremaining: 11.7ms\n",
            "98:\tlearn: 155.0688099\ttotal: 580ms\tremaining: 5.86ms\n",
            "99:\tlearn: 154.5547194\ttotal: 585ms\tremaining: 0us\n"
          ]
        },
        {
          "output_type": "execute_result",
          "data": {
            "text/plain": [
              "<catboost.core.CatBoostRegressor at 0x7897a06a08e0>"
            ]
          },
          "metadata": {},
          "execution_count": 38
        }
      ]
    },
    {
      "cell_type": "code",
      "source": [
        "# make prediction on the test set\n",
        "y_pred = catboost_model.predict(X_test)\n",
        "r2 = r2_score(y_test, y_pred)\n",
        "r2"
      ],
      "metadata": {
        "colab": {
          "base_uri": "https://localhost:8080/"
        },
        "id": "utp06ToAYYxM",
        "outputId": "b4b67286-97b2-42db-edb2-53686c8b816e"
      },
      "execution_count": null,
      "outputs": [
        {
          "output_type": "execute_result",
          "data": {
            "text/plain": [
              "0.21469446312604823"
            ]
          },
          "metadata": {},
          "execution_count": 40
        }
      ]
    },
    {
      "cell_type": "code",
      "source": [],
      "metadata": {
        "id": "vebMVBvYag9r"
      },
      "execution_count": null,
      "outputs": []
    }
  ]
}